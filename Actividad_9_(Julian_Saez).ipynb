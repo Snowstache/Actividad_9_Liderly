{
  "nbformat": 4,
  "nbformat_minor": 0,
  "metadata": {
    "colab": {
      "provenance": []
    },
    "kernelspec": {
      "name": "python3",
      "display_name": "Python 3"
    },
    "language_info": {
      "name": "python"
    }
  },
  "cells": [
    {
      "cell_type": "code",
      "execution_count": 1,
      "metadata": {
        "colab": {
          "base_uri": "https://localhost:8080/"
        },
        "id": "fKLZWTDI8osK",
        "outputId": "74013212-916d-4e4e-dfe9-9ac22c8e5c06"
      },
      "outputs": [
        {
          "output_type": "stream",
          "name": "stdout",
          "text": [
            "2.505210838544172e-07\n"
          ]
        }
      ],
      "source": [
        "product = 1\n",
        "\n",
        "for i in range(2 , 12) :\n",
        "\n",
        "    product *= i\n",
        "\n",
        "\n",
        "result = 10 / product\n",
        "\n",
        "\n",
        "print(result)"
      ]
    },
    {
      "cell_type": "code",
      "source": [
        "sum = 0\n",
        "\n",
        "for i in range(10 , 401) :\n",
        "\n",
        "    sum += i\n",
        "\n",
        "\n",
        "print(sum)"
      ],
      "metadata": {
        "colab": {
          "base_uri": "https://localhost:8080/"
        },
        "id": "j8TRrEDH9NLh",
        "outputId": "d7001ccc-404d-47eb-8ed2-d135cc4f686b"
      },
      "execution_count": 2,
      "outputs": [
        {
          "output_type": "stream",
          "name": "stdout",
          "text": [
            "80155\n"
          ]
        }
      ]
    }
  ]
}